{
 "cells": [
  {
   "cell_type": "markdown",
   "id": "6ca30056",
   "metadata": {},
   "source": [
    "# 1. Setup"
   ]
  },
  {
   "cell_type": "code",
   "execution_count": 1,
   "id": "329008a4",
   "metadata": {},
   "outputs": [],
   "source": [
    "apikey = 'B3K2xXp4vnIVGw9fDr7euR3ErLcv2C7PF1hWCW4Whi8pNQctI4LeimIt5oDqPoTa'\n",
    "secret = '2MZ6GrUw2hsr2NkR9PFNuHarkWEZFTUbBXxnnnqTcCXRcZXG9hrN1lWQ4QhWKa1H'"
   ]
  },
  {
   "cell_type": "code",
   "execution_count": 2,
   "id": "22c3604a",
   "metadata": {},
   "outputs": [
    {
     "name": "stdout",
     "output_type": "stream",
     "text": [
      "Requirement already satisfied: python-binance in ./opt/anaconda3/lib/python3.9/site-packages (1.0.16)\n",
      "Requirement already satisfied: pandas in ./opt/anaconda3/lib/python3.9/site-packages (1.3.4)\n",
      "Requirement already satisfied: mplfinance in ./opt/anaconda3/lib/python3.9/site-packages (0.12.9b1)\n",
      "Requirement already satisfied: websockets in ./opt/anaconda3/lib/python3.9/site-packages (from python-binance) (10.3)\n",
      "Requirement already satisfied: ujson in ./opt/anaconda3/lib/python3.9/site-packages (from python-binance) (4.0.2)\n",
      "Requirement already satisfied: requests in ./opt/anaconda3/lib/python3.9/site-packages (from python-binance) (2.26.0)\n",
      "Requirement already satisfied: aiohttp in ./opt/anaconda3/lib/python3.9/site-packages (from python-binance) (3.8.1)\n",
      "Requirement already satisfied: dateparser in ./opt/anaconda3/lib/python3.9/site-packages (from python-binance) (1.1.1)\n",
      "Requirement already satisfied: six in ./opt/anaconda3/lib/python3.9/site-packages (from python-binance) (1.16.0)\n",
      "Requirement already satisfied: python-dateutil>=2.7.3 in ./opt/anaconda3/lib/python3.9/site-packages (from pandas) (2.8.2)\n",
      "Requirement already satisfied: pytz>=2017.3 in ./opt/anaconda3/lib/python3.9/site-packages (from pandas) (2021.3)\n",
      "Requirement already satisfied: numpy>=1.17.3 in ./opt/anaconda3/lib/python3.9/site-packages (from pandas) (1.20.3)\n",
      "Requirement already satisfied: matplotlib in ./opt/anaconda3/lib/python3.9/site-packages (from mplfinance) (3.4.3)\n",
      "Requirement already satisfied: attrs>=17.3.0 in ./opt/anaconda3/lib/python3.9/site-packages (from aiohttp->python-binance) (21.2.0)\n",
      "Requirement already satisfied: yarl<2.0,>=1.0 in ./opt/anaconda3/lib/python3.9/site-packages (from aiohttp->python-binance) (1.8.1)\n",
      "Requirement already satisfied: aiosignal>=1.1.2 in ./opt/anaconda3/lib/python3.9/site-packages (from aiohttp->python-binance) (1.2.0)\n",
      "Requirement already satisfied: charset-normalizer<3.0,>=2.0 in ./opt/anaconda3/lib/python3.9/site-packages (from aiohttp->python-binance) (2.0.4)\n",
      "Requirement already satisfied: frozenlist>=1.1.1 in ./opt/anaconda3/lib/python3.9/site-packages (from aiohttp->python-binance) (1.3.1)\n",
      "Requirement already satisfied: multidict<7.0,>=4.5 in ./opt/anaconda3/lib/python3.9/site-packages (from aiohttp->python-binance) (6.0.2)\n",
      "Requirement already satisfied: async-timeout<5.0,>=4.0.0a3 in ./opt/anaconda3/lib/python3.9/site-packages (from aiohttp->python-binance) (4.0.2)\n",
      "Requirement already satisfied: idna>=2.0 in ./opt/anaconda3/lib/python3.9/site-packages (from yarl<2.0,>=1.0->aiohttp->python-binance) (3.2)\n",
      "Requirement already satisfied: regex!=2019.02.19,!=2021.8.27,<2022.3.15 in ./opt/anaconda3/lib/python3.9/site-packages (from dateparser->python-binance) (2021.8.3)\n",
      "Requirement already satisfied: tzlocal in ./opt/anaconda3/lib/python3.9/site-packages (from dateparser->python-binance) (4.2)\n",
      "Requirement already satisfied: pillow>=6.2.0 in ./opt/anaconda3/lib/python3.9/site-packages (from matplotlib->mplfinance) (8.4.0)\n",
      "Requirement already satisfied: cycler>=0.10 in ./opt/anaconda3/lib/python3.9/site-packages (from matplotlib->mplfinance) (0.10.0)\n",
      "Requirement already satisfied: pyparsing>=2.2.1 in ./opt/anaconda3/lib/python3.9/site-packages (from matplotlib->mplfinance) (3.0.4)\n",
      "Requirement already satisfied: kiwisolver>=1.0.1 in ./opt/anaconda3/lib/python3.9/site-packages (from matplotlib->mplfinance) (1.3.1)\n",
      "Requirement already satisfied: urllib3<1.27,>=1.21.1 in ./opt/anaconda3/lib/python3.9/site-packages (from requests->python-binance) (1.26.7)\n",
      "Requirement already satisfied: certifi>=2017.4.17 in ./opt/anaconda3/lib/python3.9/site-packages (from requests->python-binance) (2021.10.8)\n",
      "Requirement already satisfied: pytz-deprecation-shim in ./opt/anaconda3/lib/python3.9/site-packages (from tzlocal->dateparser->python-binance) (0.1.0.post0)\n",
      "Requirement already satisfied: tzdata in ./opt/anaconda3/lib/python3.9/site-packages (from pytz-deprecation-shim->tzlocal->dateparser->python-binance) (2022.2)\n"
     ]
    }
   ],
   "source": [
    "!pip install python-binance pandas mplfinance\n",
    "import pandas as pd"
   ]
  },
  {
   "cell_type": "code",
   "execution_count": 3,
   "id": "0af11774",
   "metadata": {},
   "outputs": [
    {
     "ename": "ImportError",
     "evalue": "cannot import name 'ThreadeddWebSocketManager' from 'binance' (/Users/SCHO/opt/anaconda3/lib/python3.9/site-packages/binance/__init__.py)",
     "output_type": "error",
     "traceback": [
      "\u001b[0;31m---------------------------------------------------------------------------\u001b[0m",
      "\u001b[0;31mImportError\u001b[0m                               Traceback (most recent call last)",
      "\u001b[0;32m/var/folders/87/63fpr0gj6t53x1sk2stnvcpm0000gp/T/ipykernel_47510/914432205.py\u001b[0m in \u001b[0;36m<module>\u001b[0;34m\u001b[0m\n\u001b[0;32m----> 1\u001b[0;31m \u001b[0;32mfrom\u001b[0m \u001b[0mbinance\u001b[0m \u001b[0;32mimport\u001b[0m \u001b[0mClient\u001b[0m\u001b[0;34m,\u001b[0m \u001b[0mThreadeddWebSocketManager\u001b[0m\u001b[0;34m,\u001b[0m \u001b[0mThreadedDepthCacheManager\u001b[0m\u001b[0;34m\u001b[0m\u001b[0;34m\u001b[0m\u001b[0m\n\u001b[0m\u001b[1;32m      2\u001b[0m \u001b[0;32mimport\u001b[0m \u001b[0mpandas\u001b[0m \u001b[0;32mas\u001b[0m \u001b[0mpd\u001b[0m\u001b[0;34m\u001b[0m\u001b[0;34m\u001b[0m\u001b[0m\n",
      "\u001b[0;31mImportError\u001b[0m: cannot import name 'ThreadeddWebSocketManager' from 'binance' (/Users/SCHO/opt/anaconda3/lib/python3.9/site-packages/binance/__init__.py)"
     ]
    }
   ],
   "source": [
    "from binance import Client, ThreadeddWebSocketManager, ThreadedDepthCacheManager\n",
    "import pandas as pd"
   ]
  },
  {
   "cell_type": "markdown",
   "id": "0e550522",
   "metadata": {},
   "source": [
    "# 2. Authenticate"
   ]
  },
  {
   "cell_type": "code",
   "execution_count": null,
   "id": "d9779715",
   "metadata": {},
   "outputs": [],
   "source": [
    "client = Client(apikey, secret)"
   ]
  },
  {
   "cell_type": "markdown",
   "id": "9103111e",
   "metadata": {},
   "source": [
    "# 3.Get Tickers"
   ]
  },
  {
   "cell_type": "code",
   "execution_count": null,
   "id": "62dddbd8",
   "metadata": {},
   "outputs": [],
   "source": [
    "tickers = client.get_all_tickers()\n",
    "tickers"
   ]
  },
  {
   "cell_type": "code",
   "execution_count": null,
   "id": "095320a7",
   "metadata": {},
   "outputs": [],
   "source": [
    "tickers[0]"
   ]
  },
  {
   "cell_type": "code",
   "execution_count": null,
   "id": "bdeafac6",
   "metadata": {},
   "outputs": [],
   "source": [
    "tickers[1]['symbol']"
   ]
  },
  {
   "cell_type": "code",
   "execution_count": null,
   "id": "6c80b9be",
   "metadata": {},
   "outputs": [],
   "source": [
    "ticker_df = pd.DataFrame(tickers)"
   ]
  },
  {
   "cell_type": "code",
   "execution_count": null,
   "id": "bb1a8f9e",
   "metadata": {},
   "outputs": [],
   "source": [
    "ticker_df.head()"
   ]
  },
  {
   "cell_type": "code",
   "execution_count": null,
   "id": "9bd5dc71",
   "metadata": {},
   "outputs": [],
   "source": [
    "ticker_df.tail()"
   ]
  },
  {
   "cell_type": "code",
   "execution_count": null,
   "id": "d26e6168",
   "metadata": {},
   "outputs": [],
   "source": [
    "ticker_df.set_index('symbol', inplace=True)"
   ]
  },
  {
   "cell_type": "code",
   "execution_count": null,
   "id": "762c8f98",
   "metadata": {},
   "outputs": [],
   "source": [
    "ticker_df.loc['BTCUSDT']"
   ]
  },
  {
   "cell_type": "markdown",
   "id": "27a277e7",
   "metadata": {},
   "source": [
    "# 4. Get Depth "
   ]
  },
  {
   "cell_type": "code",
   "execution_count": null,
   "id": "3a525b36",
   "metadata": {},
   "outputs": [],
   "source": [
    "depth = client.get_order_book(symbol='ETHBTC')"
   ]
  },
  {
   "cell_type": "code",
   "execution_count": null,
   "id": "a2701fb5",
   "metadata": {},
   "outputs": [],
   "source": [
    "depth"
   ]
  },
  {
   "cell_type": "code",
   "execution_count": null,
   "id": "b985d3bb",
   "metadata": {},
   "outputs": [],
   "source": [
    "depth_df = pd.DataFrame(depth['asks'])\n",
    "depth_df.columns = ['Price', 'Volume']\n",
    "depth_df.head()"
   ]
  },
  {
   "cell_type": "code",
   "execution_count": null,
   "id": "a23f3f77",
   "metadata": {},
   "outputs": [],
   "source": [
    "depth_df.dtypes"
   ]
  },
  {
   "cell_type": "markdown",
   "id": "4e3764a0",
   "metadata": {},
   "source": [
    "# 5. Get Historical Data"
   ]
  },
  {
   "cell_type": "code",
   "execution_count": null,
   "id": "508dad59",
   "metadata": {},
   "outputs": [],
   "source": [
    "historical = client.get_historical_klines('ETHBTC', Client.KLINE_INTERVAL_1DAY, '1 Jan 2021')"
   ]
  },
  {
   "cell_type": "code",
   "execution_count": null,
   "id": "b7d34959",
   "metadata": {},
   "outputs": [],
   "source": [
    "historical"
   ]
  },
  {
   "cell_type": "code",
   "execution_count": null,
   "id": "a7c5595c",
   "metadata": {},
   "outputs": [],
   "source": [
    "hist_df = pd.DataFrame(historical)"
   ]
  },
  {
   "cell_type": "code",
   "execution_count": null,
   "id": "c3f2737a",
   "metadata": {},
   "outputs": [],
   "source": [
    "hist_df.head()"
   ]
  },
  {
   "cell_type": "code",
   "execution_count": null,
   "id": "11f86c8d",
   "metadata": {},
   "outputs": [],
   "source": [
    "hist_df.columns = ['Open Time', 'Open', 'High','Low','Close','Volume','Close Time', 'Quote Asset Volume', 'Number of Trades', 'TB Base Volume','TB Quote Volume', 'Ignore']"
   ]
  },
  {
   "cell_type": "code",
   "execution_count": null,
   "id": "26d61608",
   "metadata": {
    "scrolled": true
   },
   "outputs": [],
   "source": [
    "hist_df.head()"
   ]
  },
  {
   "cell_type": "code",
   "execution_count": null,
   "id": "b70bc208",
   "metadata": {
    "scrolled": true
   },
   "outputs": [],
   "source": [
    "hist_df.tail()"
   ]
  },
  {
   "cell_type": "code",
   "execution_count": null,
   "id": "f2fe2771",
   "metadata": {
    "scrolled": true
   },
   "outputs": [],
   "source": [
    "hist_df.shape"
   ]
  },
  {
   "cell_type": "code",
   "execution_count": null,
   "id": "0b0ff678",
   "metadata": {},
   "outputs": [],
   "source": [
    "hist_df.dtypes"
   ]
  },
  {
   "cell_type": "markdown",
   "id": "c88793d2",
   "metadata": {},
   "source": [
    "# 6. Preprocess Historical Data"
   ]
  },
  {
   "cell_type": "code",
   "execution_count": null,
   "id": "9c894bd4",
   "metadata": {},
   "outputs": [],
   "source": [
    "hist_df['Open Time'] = pd.to_datetime(hist_df['Open Time']/1000, unit = 's')\n",
    "hist_df['Close Time'] = pd.to_datetime(hist_df['Close Time']/1000, unit = 's')"
   ]
  },
  {
   "cell_type": "code",
   "execution_count": null,
   "id": "531a9874",
   "metadata": {},
   "outputs": [],
   "source": [
    "numeric_columns = ['Open', 'High', 'Low','Close', 'Volume', 'Quote Asset Volume', 'TB Base Volume']"
   ]
  },
  {
   "cell_type": "code",
   "execution_count": null,
   "id": "a6531782",
   "metadata": {},
   "outputs": [],
   "source": [
    "hist_df[numeric_columns] =hist_df[numeric_columns].apply(pd.to_numeric, axis=1)"
   ]
  },
  {
   "cell_type": "code",
   "execution_count": null,
   "id": "2c1bd516",
   "metadata": {},
   "outputs": [],
   "source": [
    "hist_df.dtypes"
   ]
  },
  {
   "cell_type": "code",
   "execution_count": null,
   "id": "fe2f51fb",
   "metadata": {},
   "outputs": [],
   "source": [
    "hist_df.head()"
   ]
  },
  {
   "cell_type": "code",
   "execution_count": null,
   "id": "be085e5e",
   "metadata": {},
   "outputs": [],
   "source": [
    "hist_df.describe()"
   ]
  },
  {
   "cell_type": "code",
   "execution_count": null,
   "id": "9ec5031d",
   "metadata": {},
   "outputs": [],
   "source": [
    "hist_df.info()"
   ]
  },
  {
   "cell_type": "markdown",
   "id": "fcd90b01",
   "metadata": {},
   "source": [
    "# 7. Visualization "
   ]
  },
  {
   "cell_type": "code",
   "execution_count": null,
   "id": "f0414bca",
   "metadata": {},
   "outputs": [],
   "source": [
    "import mplfinance as mpf"
   ]
  },
  {
   "cell_type": "code",
   "execution_count": 5,
   "id": "7e653d74",
   "metadata": {},
   "outputs": [
    {
     "ename": "NameError",
     "evalue": "name 'hist_df' is not defined",
     "output_type": "error",
     "traceback": [
      "\u001b[0;31m---------------------------------------------------------------------------\u001b[0m",
      "\u001b[0;31mNameError\u001b[0m                                 Traceback (most recent call last)",
      "\u001b[0;32m/var/folders/87/63fpr0gj6t53x1sk2stnvcpm0000gp/T/ipykernel_47510/3743614591.py\u001b[0m in \u001b[0;36m<module>\u001b[0;34m\u001b[0m\n\u001b[0;32m----> 1\u001b[0;31m \u001b[0mhist_df\u001b[0m\u001b[0;34m.\u001b[0m\u001b[0mset_index\u001b[0m\u001b[0;34m(\u001b[0m\u001b[0;34m'Close Time'\u001b[0m\u001b[0;34m)\u001b[0m\u001b[0;34m.\u001b[0m\u001b[0mtail\u001b[0m\u001b[0;34m(\u001b[0m\u001b[0;36m100\u001b[0m\u001b[0;34m)\u001b[0m\u001b[0;34m\u001b[0m\u001b[0;34m\u001b[0m\u001b[0m\n\u001b[0m",
      "\u001b[0;31mNameError\u001b[0m: name 'hist_df' is not defined"
     ]
    }
   ],
   "source": [
    "hist_df.set_index('Close Time').tail(100)"
   ]
  },
  {
   "cell_type": "code",
   "execution_count": 4,
   "id": "0037bd49",
   "metadata": {},
   "outputs": [
    {
     "ename": "NameError",
     "evalue": "name 'mpf' is not defined",
     "output_type": "error",
     "traceback": [
      "\u001b[0;31m---------------------------------------------------------------------------\u001b[0m",
      "\u001b[0;31mNameError\u001b[0m                                 Traceback (most recent call last)",
      "\u001b[0;32m/var/folders/87/63fpr0gj6t53x1sk2stnvcpm0000gp/T/ipykernel_47510/835870135.py\u001b[0m in \u001b[0;36m<module>\u001b[0;34m\u001b[0m\n\u001b[0;32m----> 1\u001b[0;31m mpf.plot(hist_df.set_index('Close Time').tail(100),\n\u001b[0m\u001b[1;32m      2\u001b[0m         type='candle', style='charles', volume=True, title='ETHBTC Last 100 Days',mav=(10,20))\n",
      "\u001b[0;31mNameError\u001b[0m: name 'mpf' is not defined"
     ]
    }
   ],
   "source": [
    "mpf.plot(hist_df.set_index('Close Time').tail(100),\n",
    "        type='candle', style='charles', volume=True, title='ETHBTC Last 100 Days',mav=(10,20))"
   ]
  },
  {
   "cell_type": "code",
   "execution_count": null,
   "id": "06a4ccb1",
   "metadata": {},
   "outputs": [],
   "source": []
  },
  {
   "cell_type": "code",
   "execution_count": null,
   "id": "6f2b4c76",
   "metadata": {},
   "outputs": [],
   "source": []
  },
  {
   "cell_type": "code",
   "execution_count": null,
   "id": "31615b35",
   "metadata": {},
   "outputs": [],
   "source": []
  },
  {
   "cell_type": "code",
   "execution_count": null,
   "id": "64ede6f2",
   "metadata": {},
   "outputs": [],
   "source": []
  },
  {
   "cell_type": "code",
   "execution_count": null,
   "id": "d279938f",
   "metadata": {},
   "outputs": [],
   "source": []
  }
 ],
 "metadata": {
  "kernelspec": {
   "display_name": "Python 3 (ipykernel)",
   "language": "python",
   "name": "python3"
  },
  "language_info": {
   "codemirror_mode": {
    "name": "ipython",
    "version": 3
   },
   "file_extension": ".py",
   "mimetype": "text/x-python",
   "name": "python",
   "nbconvert_exporter": "python",
   "pygments_lexer": "ipython3",
   "version": "3.9.7"
  }
 },
 "nbformat": 4,
 "nbformat_minor": 5
}
